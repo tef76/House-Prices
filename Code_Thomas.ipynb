{
 "cells": [
  {
   "cell_type": "markdown",
   "id": "9a369e84",
   "metadata": {},
   "source": [
    "## Import "
   ]
  },
  {
   "cell_type": "code",
   "execution_count": 41,
   "id": "10044905",
   "metadata": {},
   "outputs": [],
   "source": [
    "from sklearn.linear_model import Ridge, RidgeCV, ElasticNet, Lasso, LassoLarsCV\n",
    "from sklearn.model_selection import cross_val_score\n",
    "import pandas as pd\n",
    "import numpy as np\n",
    "import matplotlib.pyplot as plt\n",
    "from sklearn.neighbors import KNeighborsClassifier\n",
    "from sklearn.model_selection import train_test_split\n",
    "import matplotlib\n",
    "\n",
    "from sklearn.ensemble import RandomForestRegressor\n",
    "from sklearn.model_selection import cross_val_score, cross_val_predict\n",
    "import random\n",
    "from sklearn.neighbors import KernelDensity\n",
    "from sklearn.naive_bayes import GaussianNB\n",
    "from sklearn.neural_network import MLPClassifier\n",
    "from sklearn import svm\n",
    "from sklearn.svm import LinearSVC\n",
    "from statistics import mean\n",
    "from sklearn.metrics import mean_squared_error\n",
    "from sklearn.linear_model import LinearRegression\n",
    "from sklearn.metrics import mean_squared_log_error\n",
    "\n",
    "from scipy.stats import skew"
   ]
  },
  {
   "cell_type": "markdown",
   "id": "36ac1f98",
   "metadata": {},
   "source": [
    "## RMSLE"
   ]
  },
  {
   "cell_type": "code",
   "execution_count": 42,
   "id": "63343354",
   "metadata": {},
   "outputs": [],
   "source": [
    "def rmsle(y, y_pred):\n",
    "    return np.sqrt(mean_squared_log_error(y, y_pred))"
   ]
  },
  {
   "cell_type": "markdown",
   "id": "3e08ba60",
   "metadata": {},
   "source": [
    "# Data"
   ]
  },
  {
   "cell_type": "markdown",
   "id": "480698b4",
   "metadata": {},
   "source": [
    "## One Hot Encoder"
   ]
  },
  {
   "cell_type": "code",
   "execution_count": 43,
   "id": "25e43c83",
   "metadata": {},
   "outputs": [
    {
     "name": "stdout",
     "output_type": "stream",
     "text": [
      "Shape:\n",
      "(1088, 240)\n"
     ]
    }
   ],
   "source": [
    "train = pd.read_csv(\"trainOHE.csv\")\n",
    "print(\"Shape:\")\n",
    "print(train.shape)\n",
    "\n",
    "y_trainOHE = train.pop('label').tolist()\n",
    "X_trainOHE = train.values.tolist()\n",
    "\n",
    "test = pd.read_csv(\"testOHE.csv\")\n",
    "\n",
    "y_testOHE = test.pop('label').tolist()\n",
    "X_testOHE = test.values.tolist()"
   ]
  },
  {
   "cell_type": "markdown",
   "id": "10de41f6",
   "metadata": {},
   "source": [
    "## One Hot Encoder 21"
   ]
  },
  {
   "cell_type": "code",
   "execution_count": 44,
   "id": "b65fc260",
   "metadata": {},
   "outputs": [
    {
     "name": "stdout",
     "output_type": "stream",
     "text": [
      "Shape:\n",
      "(1088, 21)\n"
     ]
    }
   ],
   "source": [
    "train = pd.read_csv(\"trainOHE21.csv\")\n",
    "print(\"Shape:\")\n",
    "print(train.shape)\n",
    "\n",
    "y_trainOHE21 = train.pop('label').tolist()\n",
    "X_trainOHE21 = train.values.tolist()\n",
    "\n",
    "test = pd.read_csv(\"testOHE21.csv\")\n",
    "\n",
    "y_testOHE21 = test.pop('label').tolist()\n",
    "X_testOHE21 = test.values.tolist()"
   ]
  },
  {
   "cell_type": "markdown",
   "id": "8221fac5",
   "metadata": {},
   "source": [
    "## Label Encoder"
   ]
  },
  {
   "cell_type": "code",
   "execution_count": 45,
   "id": "ff3f1245",
   "metadata": {},
   "outputs": [
    {
     "name": "stdout",
     "output_type": "stream",
     "text": [
      "Shape:\n",
      "(1088, 80)\n"
     ]
    }
   ],
   "source": [
    "train = pd.read_csv(\"trainLE.csv\")\n",
    "\n",
    "print(\"Shape:\")\n",
    "print(train.shape)\n",
    "\n",
    "y_trainLE = train.pop('label').tolist()\n",
    "X_trainLE = train.values.tolist()\n",
    "\n",
    "test = pd.read_csv(\"testLE.csv\")\n",
    "\n",
    "y_testLE = test.pop('label').tolist()\n",
    "X_testLE = test.values.tolist()"
   ]
  },
  {
   "cell_type": "markdown",
   "id": "da226c0b",
   "metadata": {},
   "source": [
    "## Label Encoder 20"
   ]
  },
  {
   "cell_type": "code",
   "execution_count": 46,
   "id": "86bf97a4",
   "metadata": {},
   "outputs": [
    {
     "name": "stdout",
     "output_type": "stream",
     "text": [
      "Shape:\n",
      "(1088, 20)\n"
     ]
    }
   ],
   "source": [
    "train = pd.read_csv(\"trainLE20.csv\")\n",
    "\n",
    "print(\"Shape:\")\n",
    "print(train.shape)\n",
    "\n",
    "y_trainLE20 = train.pop('label').tolist()\n",
    "X_trainLE20 = train.values.tolist()\n",
    "\n",
    "test = pd.read_csv(\"testLE20.csv\")\n",
    "\n",
    "y_testLE20 = test.pop('label').tolist()\n",
    "X_testLE20 = test.values.tolist()"
   ]
  },
  {
   "cell_type": "markdown",
   "id": "3b7f61aa",
   "metadata": {},
   "source": [
    "## -------Classification-------"
   ]
  },
  {
   "cell_type": "markdown",
   "id": "ed6d550d",
   "metadata": {},
   "source": [
    "### KPPV"
   ]
  },
  {
   "cell_type": "code",
   "execution_count": 47,
   "id": "a86b4b5e",
   "metadata": {},
   "outputs": [
    {
     "name": "stdout",
     "output_type": "stream",
     "text": [
      "---OHE---\n",
      "Best k = 9\n",
      "CrossValidation score = 0.6433771614594344\n"
     ]
    }
   ],
   "source": [
    "r = []\n",
    "for i in range(1,20):\n",
    "    neigh = KNeighborsClassifier(n_neighbors=i)\n",
    "    c = cross_val_score(neigh, X_trainOHE, y_trainOHE, cv=5)\n",
    "    r.append(sum(c)/len(c))\n",
    "    \n",
    "m = r.index(max(r))\n",
    "print(\"---OHE---\")\n",
    "print(\"Best k = \" + str(m + 1))\n",
    "print(\"CrossValidation score = \" + str(r[m]))"
   ]
  },
  {
   "cell_type": "code",
   "execution_count": 48,
   "id": "f854b8de",
   "metadata": {},
   "outputs": [
    {
     "name": "stdout",
     "output_type": "stream",
     "text": [
      "---OHE21---\n",
      "Best k = 5\n",
      "CrossValidation score = 0.7105018390901788\n"
     ]
    }
   ],
   "source": [
    "r = []\n",
    "for i in range(1,20):\n",
    "    neigh = KNeighborsClassifier(n_neighbors=i)\n",
    "    c = cross_val_score(neigh, X_trainOHE21, y_trainOHE21, cv=5)\n",
    "    r.append(sum(c)/len(c))\n",
    "    \n",
    "m = r.index(max(r))\n",
    "print(\"---OHE21---\")\n",
    "print(\"Best k = \" + str(m + 1))\n",
    "print(\"CrossValidation score = \" + str(r[m]))"
   ]
  },
  {
   "cell_type": "code",
   "execution_count": 49,
   "id": "9b9c77f1",
   "metadata": {},
   "outputs": [
    {
     "name": "stdout",
     "output_type": "stream",
     "text": [
      "---LE---\n",
      "Best k = 5\n",
      "CrossValidation score = 0.6286728956157781\n"
     ]
    }
   ],
   "source": [
    "r = []\n",
    "for i in range(1,20):\n",
    "    neigh = KNeighborsClassifier(n_neighbors=i)\n",
    "    c = cross_val_score(neigh, X_trainLE, y_trainLE, cv=5)\n",
    "    r.append(sum(c)/len(c))\n",
    "    \n",
    "m = r.index(max(r))\n",
    "print(\"---LE---\")\n",
    "print(\"Best k = \" + str(m + 1))\n",
    "print(\"CrossValidation score = \" + str(r[m]))"
   ]
  },
  {
   "cell_type": "code",
   "execution_count": 50,
   "id": "5782d9c0",
   "metadata": {},
   "outputs": [
    {
     "name": "stdout",
     "output_type": "stream",
     "text": [
      "---LE20---\n",
      "Best k = 9\n",
      "CrossValidation score = 0.7113981313152665\n"
     ]
    }
   ],
   "source": [
    "r = []\n",
    "for i in range(1,20):\n",
    "    neigh = KNeighborsClassifier(n_neighbors=i)\n",
    "    c = cross_val_score(neigh, X_trainLE20, y_trainLE20, cv=5)\n",
    "    r.append(sum(c)/len(c))\n",
    "    \n",
    "m = r.index(max(r))\n",
    "print(\"---LE20---\")\n",
    "print(\"Best k = \" + str(m + 1))\n",
    "print(\"CrossValidation score = \" + str(r[m]))"
   ]
  },
  {
   "cell_type": "markdown",
   "id": "76159683",
   "metadata": {},
   "source": [
    "### Gaussian"
   ]
  },
  {
   "cell_type": "code",
   "execution_count": 51,
   "id": "315e2275",
   "metadata": {},
   "outputs": [
    {
     "name": "stdout",
     "output_type": "stream",
     "text": [
      "---OHE---\n",
      "CrossValidation score = 0.597328034498795\n"
     ]
    }
   ],
   "source": [
    "clf = GaussianNB()\n",
    "score = cross_val_score(clf,X_trainOHE, y_trainOHE, cv = 5)\n",
    "print(\"---OHE---\")\n",
    "print(\"CrossValidation score = \" + str(mean(score)))"
   ]
  },
  {
   "cell_type": "code",
   "execution_count": 52,
   "id": "66710e6f",
   "metadata": {},
   "outputs": [
    {
     "name": "stdout",
     "output_type": "stream",
     "text": [
      "---OHE21---\n",
      "CrossValidation score = 0.715997970659113\n"
     ]
    }
   ],
   "source": [
    "clf = GaussianNB()\n",
    "score = cross_val_score(clf,X_trainOHE21, y_trainOHE21, cv = 5)\n",
    "print(\"---OHE21---\")\n",
    "print(\"CrossValidation score = \" + str(mean(score)))"
   ]
  },
  {
   "cell_type": "code",
   "execution_count": 53,
   "id": "727abb77",
   "metadata": {},
   "outputs": [
    {
     "name": "stdout",
     "output_type": "stream",
     "text": [
      "---LE---\n",
      "CrossValidation score = 0.5376696402147719\n"
     ]
    }
   ],
   "source": [
    "clf = GaussianNB()\n",
    "score = cross_val_score(clf,X_trainLE, y_trainLE, cv = 5)\n",
    "print(\"---LE---\")\n",
    "print(\"CrossValidation score = \" + str(mean(score)))"
   ]
  },
  {
   "cell_type": "code",
   "execution_count": 54,
   "id": "35b556ac",
   "metadata": {},
   "outputs": [
    {
     "name": "stdout",
     "output_type": "stream",
     "text": [
      "---LE20---\n",
      "CrossValidation score = 0.7233331924068829\n"
     ]
    }
   ],
   "source": [
    "clf = GaussianNB()\n",
    "score = cross_val_score(clf,X_trainLE20, y_trainLE20, cv = 5)\n",
    "print(\"---LE20---\")\n",
    "print(\"CrossValidation score = \" + str(mean(score)))"
   ]
  },
  {
   "cell_type": "markdown",
   "id": "126cca32",
   "metadata": {},
   "source": [
    "### Parzen\n",
    "\n",
    "Le classifieur par la méthode de Parzen ne marche pas, le dataset possède des valeurs discrètes qui ne sont pas adaptées à cet algorithme."
   ]
  },
  {
   "cell_type": "code",
   "execution_count": 55,
   "id": "17597adf",
   "metadata": {},
   "outputs": [
    {
     "name": "stdout",
     "output_type": "stream",
     "text": [
      "CrossValidation score = -4906251300.32857\n"
     ]
    }
   ],
   "source": [
    "kde = KernelDensity(kernel='gaussian', bandwidth=0.5)\n",
    "score = cross_val_score(kde,X_testOHE, y_testOHE, cv = 5)\n",
    "print(\"CrossValidation score = \"+ str(mean(score)))"
   ]
  },
  {
   "cell_type": "markdown",
   "id": "8e170e48",
   "metadata": {},
   "source": [
    "### MLP"
   ]
  },
  {
   "cell_type": "code",
   "execution_count": 56,
   "id": "eae49e32",
   "metadata": {},
   "outputs": [
    {
     "name": "stdout",
     "output_type": "stream",
     "text": [
      "---OHE---\n",
      "CrossValidation score = 0.6719105398892318\n"
     ]
    }
   ],
   "source": [
    "clf = MLPClassifier(max_iter = 5000,activation = 'logistic',solver = 'adam')\n",
    "score = cross_val_score(clf,X_trainOHE, y_trainOHE, cv = 5)\n",
    "print(\"---OHE---\")\n",
    "print(\"CrossValidation score = \" + str(mean(score)))"
   ]
  },
  {
   "cell_type": "code",
   "execution_count": 57,
   "id": "ff44ae93",
   "metadata": {},
   "outputs": [
    {
     "name": "stdout",
     "output_type": "stream",
     "text": [
      "---OHE21---\n",
      "CrossValidation score = 0.6654377880184331\n"
     ]
    }
   ],
   "source": [
    "clf = MLPClassifier(max_iter = 5000,activation = 'logistic',solver = 'adam')\n",
    "score = cross_val_score(clf,X_trainOHE21, y_trainOHE21, cv = 5)\n",
    "print(\"---OHE21---\")\n",
    "print(\"CrossValidation score = \" + str(mean(score)))"
   ]
  },
  {
   "cell_type": "code",
   "execution_count": 58,
   "id": "8bdf3cb6",
   "metadata": {},
   "outputs": [
    {
     "name": "stdout",
     "output_type": "stream",
     "text": [
      "---LE---\n",
      "CrossValidation score = 0.6249778040840486\n"
     ]
    }
   ],
   "source": [
    "clf = MLPClassifier(max_iter = 5000,activation = 'logistic',solver = 'adam')\n",
    "score = cross_val_score(clf,X_trainLE, y_trainLE, cv = 5)\n",
    "print(\"---LE---\")\n",
    "print(\"CrossValidation score = \" + str(mean(score)))"
   ]
  },
  {
   "cell_type": "code",
   "execution_count": 59,
   "id": "fbe9f22a",
   "metadata": {},
   "outputs": [
    {
     "name": "stdout",
     "output_type": "stream",
     "text": [
      "---LE20---\n",
      "CrossValidation score = 0.7012810214349131\n"
     ]
    }
   ],
   "source": [
    "clf = MLPClassifier(max_iter = 5000,activation = 'logistic',solver = 'adam')\n",
    "score = cross_val_score(clf,X_trainLE20, y_trainLE20, cv = 5)\n",
    "print(\"---LE20---\")\n",
    "print(\"CrossValidation score = \" + str(mean(score)))"
   ]
  },
  {
   "cell_type": "markdown",
   "id": "936826b5",
   "metadata": {},
   "source": [
    "## Meilleur classifieur: Gaussian"
   ]
  },
  {
   "cell_type": "code",
   "execution_count": 60,
   "id": "81688413",
   "metadata": {},
   "outputs": [
    {
     "name": "stdout",
     "output_type": "stream",
     "text": [
      "---Test Data Score---\n",
      "0.7630853994490359\n"
     ]
    }
   ],
   "source": [
    "clf = GaussianNB()\n",
    "clf.fit(X_trainLE20, y_trainLE20)\n",
    "print(\"---Test Data Score---\")\n",
    "print(clf.score(X_testLE20,y_testLE20))"
   ]
  },
  {
   "cell_type": "markdown",
   "id": "284ca71e",
   "metadata": {},
   "source": [
    "## -------Regression-------"
   ]
  },
  {
   "cell_type": "markdown",
   "id": "87340398",
   "metadata": {},
   "source": [
    "## DATA"
   ]
  },
  {
   "cell_type": "markdown",
   "id": "2e765d01",
   "metadata": {},
   "source": [
    "## One Hot Encoder"
   ]
  },
  {
   "cell_type": "code",
   "execution_count": 61,
   "id": "aa0d8afd",
   "metadata": {},
   "outputs": [
    {
     "name": "stdout",
     "output_type": "stream",
     "text": [
      "Shape:\n",
      "(1460, 240)\n"
     ]
    }
   ],
   "source": [
    "train = pd.read_csv(\"REGtrainOHE.csv\")\n",
    "print('Shape:')\n",
    "print(train.shape)\n",
    "\n",
    "y_trainOHE = train.pop('SalePrice').tolist()\n",
    "X_trainOHE = train.values.tolist()\n",
    "\n",
    "test = pd.read_csv(\"REGtestOHE.csv\")\n",
    "X_testOHE_submit = test.values.tolist()"
   ]
  },
  {
   "cell_type": "markdown",
   "id": "296f7646",
   "metadata": {},
   "source": [
    "## One Hot Encoder 21"
   ]
  },
  {
   "cell_type": "code",
   "execution_count": 62,
   "id": "35a6a434",
   "metadata": {},
   "outputs": [
    {
     "name": "stdout",
     "output_type": "stream",
     "text": [
      "Shape:\n",
      "(1460, 21)\n"
     ]
    }
   ],
   "source": [
    "train = pd.read_csv(\"REGtrainOHE21.csv\")\n",
    "print('Shape:')\n",
    "print(train.shape)\n",
    "\n",
    "y_trainOHE21 = train.pop('SalePrice').tolist()\n",
    "X_trainOHE21 = train.values.tolist()\n",
    "\n",
    "test = pd.read_csv(\"REGtestOHE21.csv\")\n",
    "X_testOHE_submit21 = test.values.tolist()"
   ]
  },
  {
   "cell_type": "markdown",
   "id": "8c686418",
   "metadata": {},
   "source": [
    "## Label Encoder "
   ]
  },
  {
   "cell_type": "code",
   "execution_count": 63,
   "id": "29dceeb6",
   "metadata": {},
   "outputs": [
    {
     "name": "stdout",
     "output_type": "stream",
     "text": [
      "Shape:\n",
      "(1460, 80)\n"
     ]
    }
   ],
   "source": [
    "train = pd.read_csv(\"REGtrainLE.csv\")\n",
    "print('Shape:')\n",
    "print(train.shape)\n",
    "\n",
    "y_trainLE = train.pop('SalePrice').tolist()\n",
    "X_trainLE = train.values.tolist()\n",
    "\n",
    "test = pd.read_csv(\"REGtestLE.csv\")\n",
    "X_testLE_submit = test.values.tolist()"
   ]
  },
  {
   "cell_type": "markdown",
   "id": "48ca85a1",
   "metadata": {},
   "source": [
    "## Label Encoder 19"
   ]
  },
  {
   "cell_type": "code",
   "execution_count": 64,
   "id": "4326cf1c",
   "metadata": {},
   "outputs": [
    {
     "name": "stdout",
     "output_type": "stream",
     "text": [
      "Shape:\n",
      "(1460, 19)\n"
     ]
    }
   ],
   "source": [
    "train = pd.read_csv(\"REGtrainLE19.csv\")\n",
    "print('Shape:')\n",
    "print(train.shape)\n",
    "\n",
    "y_trainLE19 = train.pop('SalePrice').tolist()\n",
    "X_trainLE19 = train.values.tolist()\n",
    "\n",
    "test = pd.read_csv(\"REGtestLE19.csv\")\n",
    "X_testLE_submit19 = test.values.tolist()"
   ]
  },
  {
   "cell_type": "markdown",
   "id": "cfeb0dbb",
   "metadata": {},
   "source": [
    "## Log OHE"
   ]
  },
  {
   "cell_type": "code",
   "execution_count": 65,
   "id": "e642e780",
   "metadata": {},
   "outputs": [],
   "source": [
    "train = pd.read_csv(\"REGtrainOHE.csv\")\n",
    "test = pd.read_csv(\"REGtestOHE.csv\")\n",
    "\n",
    "y_trainOHE_log = train.pop('SalePrice').values.tolist()\n",
    "y_trainOHE_log = [np.log(i) for i in y_trainOHE_log]\n",
    "X_trainOHE_log = train.values.tolist()"
   ]
  },
  {
   "cell_type": "markdown",
   "id": "b219532c",
   "metadata": {},
   "source": [
    "## Linear Regression"
   ]
  },
  {
   "cell_type": "code",
   "execution_count": 66,
   "id": "42e0603d",
   "metadata": {},
   "outputs": [
    {
     "name": "stdout",
     "output_type": "stream",
     "text": [
      "---OHE---\n",
      "RMSLE = 0.7164634826489862\n"
     ]
    }
   ],
   "source": [
    "reg = LinearRegression()\n",
    "print(\"---OHE---\")\n",
    "y_pred = cross_val_predict(reg, X_trainOHE, y_trainOHE, cv=5)\n",
    "y_pred = abs(y_pred)\n",
    "score_la = rmsle(y_trainOHE, y_pred)\n",
    "print(\"RMSLE = \" + str(score_la))"
   ]
  },
  {
   "cell_type": "code",
   "execution_count": 67,
   "id": "204e2a4d",
   "metadata": {},
   "outputs": [
    {
     "name": "stdout",
     "output_type": "stream",
     "text": [
      "---OHE21---\n",
      "RMSLE = 0.23079952949050633\n"
     ]
    }
   ],
   "source": [
    "reg = LinearRegression()\n",
    "print(\"---OHE21---\")\n",
    "y_pred = cross_val_predict(reg, X_trainOHE21, y_trainOHE21, cv=5)\n",
    "y_pred = abs(y_pred)\n",
    "score_la = rmsle(y_trainOHE21, y_pred)\n",
    "print(\"RMSLE = \" + str(score_la))"
   ]
  },
  {
   "cell_type": "code",
   "execution_count": 68,
   "id": "b9891a3b",
   "metadata": {},
   "outputs": [
    {
     "name": "stdout",
     "output_type": "stream",
     "text": [
      "---LE---\n",
      "RMSLE = 0.19028465950166637\n"
     ]
    }
   ],
   "source": [
    "reg = LinearRegression()\n",
    "print(\"---LE---\")\n",
    "y_pred = cross_val_predict(reg, X_trainLE, y_trainLE, cv=5)\n",
    "y_pred = abs(y_pred)\n",
    "score_la = rmsle(y_trainLE, y_pred)\n",
    "print(\"RMSLE = \" + str(score_la))"
   ]
  },
  {
   "cell_type": "code",
   "execution_count": 69,
   "id": "b6663fe7",
   "metadata": {},
   "outputs": [
    {
     "name": "stdout",
     "output_type": "stream",
     "text": [
      "---LE19---\n",
      "RMSLE = 0.20036929317553803\n"
     ]
    }
   ],
   "source": [
    "reg = LinearRegression()\n",
    "print(\"---LE19---\")\n",
    "y_pred = cross_val_predict(reg, X_trainLE19, y_trainLE19, cv=5)\n",
    "y_pred = abs(y_pred)\n",
    "score_la = rmsle(y_trainLE19, y_pred)\n",
    "print(\"RMSLE = \" + str(score_la))"
   ]
  },
  {
   "cell_type": "code",
   "execution_count": 70,
   "id": "6fc5a9cc",
   "metadata": {},
   "outputs": [
    {
     "name": "stdout",
     "output_type": "stream",
     "text": [
      "---LogOHE---\n",
      "RMSLE = 0.15437998385496296\n"
     ]
    }
   ],
   "source": [
    "reg = LinearRegression()\n",
    "print(\"---LogOHE---\")\n",
    "y_pred = cross_val_predict(reg, X_trainOHE_log, y_trainOHE_log, cv=4)\n",
    "y_pred = abs(y_pred)\n",
    "score_la = rmsle(np.exp(y_trainOHE_log), np.exp(y_pred))\n",
    "print(\"RMSLE = \" + str(score_la))"
   ]
  },
  {
   "cell_type": "markdown",
   "id": "e541c5e8",
   "metadata": {},
   "source": [
    "### Ridge"
   ]
  },
  {
   "cell_type": "code",
   "execution_count": 71,
   "id": "54dd59a9",
   "metadata": {},
   "outputs": [
    {
     "name": "stdout",
     "output_type": "stream",
     "text": [
      "---OHE---\n",
      "Best alpha = 10\n",
      "RMSLE = 0.1819720781792796\n"
     ]
    }
   ],
   "source": [
    "r = []\n",
    "l = [0.05, 0.1, 0.3, 1, 3, 5, 10, 15, 30, 50, 75]\n",
    "for i in l:\n",
    "    ridge = Ridge(alpha = i)\n",
    "    c = cross_val_score(ridge, X_trainOHE, y_trainOHE, cv=5)\n",
    "    r.append(sum(c)/len(c))\n",
    "\n",
    "    \n",
    "m = r.index(max(r))\n",
    "print(\"---OHE---\")\n",
    "print(\"Best alpha = \" + str(l[m]))\n",
    "ridge = Ridge(alpha = l[m])\n",
    "y_pred = cross_val_predict(ridge, X_trainOHE, y_trainOHE, cv=5)\n",
    "y_pred = abs(y_pred)\n",
    "score_la = rmsle(y_trainOHE, y_pred)\n",
    "print(\"RMSLE = \" + str(score_la))"
   ]
  },
  {
   "cell_type": "code",
   "execution_count": 72,
   "id": "685d5049",
   "metadata": {},
   "outputs": [
    {
     "name": "stdout",
     "output_type": "stream",
     "text": [
      "---OHE21---\n",
      "Best alpha = 1\n",
      "RMSLE = 0.24239090760017923\n"
     ]
    }
   ],
   "source": [
    "r = []\n",
    "l = [0.05, 0.1, 0.3, 1, 3, 5, 10, 15, 30, 50, 75]\n",
    "for i in l:\n",
    "    ridge = Ridge(alpha = i)\n",
    "    c = cross_val_score(ridge, X_trainOHE21, y_trainOHE21, cv=5)\n",
    "    r.append(sum(c)/len(c))\n",
    "\n",
    "    \n",
    "m = r.index(max(r))\n",
    "print(\"---OHE21---\")\n",
    "print(\"Best alpha = \" + str(l[m]))\n",
    "ridge = Ridge(alpha = l[m])\n",
    "y_pred = cross_val_predict(ridge, X_trainOHE21, y_trainOHE21, cv=5)\n",
    "y_pred = abs(y_pred)\n",
    "score_la = rmsle(y_trainOHE21, y_pred)\n",
    "print(\"RMSLE = \" + str(score_la))"
   ]
  },
  {
   "cell_type": "code",
   "execution_count": 73,
   "id": "b4f4ad3f",
   "metadata": {},
   "outputs": [
    {
     "name": "stdout",
     "output_type": "stream",
     "text": [
      "---LE---\n",
      "Best alpha = 75\n",
      "RMSLE = 0.1730076699174116\n"
     ]
    }
   ],
   "source": [
    "r = []\n",
    "l = [0.05, 0.1, 0.3, 1, 3, 5, 10, 15, 30, 50, 75]\n",
    "for i in l:\n",
    "    ridge = Ridge(alpha = i)\n",
    "    c = cross_val_score(ridge, X_trainLE, y_trainLE, cv=5)\n",
    "    r.append(sum(c)/len(c))\n",
    "\n",
    "    \n",
    "m = r.index(max(r))\n",
    "print(\"---LE---\")\n",
    "print(\"Best alpha = \" + str(l[m]))\n",
    "ridge = Ridge(alpha = l[m])\n",
    "y_pred = cross_val_predict(ridge, X_trainLE, y_trainLE, cv=5)\n",
    "y_pred = abs(y_pred)\n",
    "score_la = rmsle(y_trainLE, y_pred)\n",
    "print(\"RMSLE = \" + str(score_la))"
   ]
  },
  {
   "cell_type": "code",
   "execution_count": 74,
   "id": "499c5d5b",
   "metadata": {},
   "outputs": [
    {
     "name": "stdout",
     "output_type": "stream",
     "text": [
      "---LE19---\n",
      "Best alpha = 1\n",
      "RMSLE = 0.20019494893371856\n"
     ]
    }
   ],
   "source": [
    "r = []\n",
    "l = [1, 0.1, 0.001, 0.0005]\n",
    "for i in l:\n",
    "    ridge = Ridge(alpha = i)\n",
    "    c = cross_val_score(ridge, X_trainLE19, y_trainLE19, cv=5)\n",
    "    r.append(sum(c)/len(c))\n",
    "\n",
    "    \n",
    "m = r.index(max(r))\n",
    "print(\"---LE19---\")\n",
    "print(\"Best alpha = \" + str(l[m]))\n",
    "ridge = Ridge(alpha = l[m])\n",
    "y_pred = cross_val_predict(ridge, X_trainLE19, y_trainLE19, cv=5)\n",
    "y_pred = abs(y_pred)\n",
    "score_la = rmsle(y_trainLE19, y_pred)\n",
    "print(\"RMSLE = \" + str(score_la))"
   ]
  },
  {
   "cell_type": "code",
   "execution_count": 75,
   "id": "546711db",
   "metadata": {},
   "outputs": [
    {
     "name": "stdout",
     "output_type": "stream",
     "text": [
      "---LogOHE---\n",
      "Best alpha = 1\n",
      "RMSLE = 0.14329928691743224\n"
     ]
    }
   ],
   "source": [
    "r = []\n",
    "l = [1, 0.1, 0.001, 0.0005]\n",
    "for i in l:\n",
    "    ridge = Ridge(alpha = i)\n",
    "    c = cross_val_score(ridge, X_trainOHE_log, y_trainOHE_log, cv=5)\n",
    "    r.append(sum(c)/len(c))\n",
    "\n",
    "    \n",
    "m = r.index(max(r))\n",
    "print(\"---LogOHE---\")\n",
    "print(\"Best alpha = \" + str(l[m]))\n",
    "ridge = Ridge(alpha = l[m])\n",
    "y_pred = cross_val_predict(ridge, X_trainLE_log, y_trainLE_log, cv=5)\n",
    "y_pred = abs(y_pred)\n",
    "score_la = rmsle(np.exp(y_trainLE_log), np.exp(y_pred))\n",
    "print(\"RMSLE = \" + str(score_la))"
   ]
  },
  {
   "cell_type": "markdown",
   "id": "673203da",
   "metadata": {},
   "source": [
    "## Lasso"
   ]
  },
  {
   "cell_type": "code",
   "execution_count": 76,
   "id": "acfe862c",
   "metadata": {},
   "outputs": [
    {
     "name": "stderr",
     "output_type": "stream",
     "text": [
      "C:\\Users\\toevr\\anaconda3\\lib\\site-packages\\sklearn\\linear_model\\_coordinate_descent.py:647: ConvergenceWarning: Objective did not converge. You might want to increase the number of iterations, check the scale of the features or consider increasing regularisation. Duality gap: 2.804e+11, tolerance: 7.592e+08\n",
      "  model = cd_fast.enet_coordinate_descent(\n",
      "C:\\Users\\toevr\\anaconda3\\lib\\site-packages\\sklearn\\linear_model\\_coordinate_descent.py:647: ConvergenceWarning: Objective did not converge. You might want to increase the number of iterations, check the scale of the features or consider increasing regularisation. Duality gap: 2.465e+11, tolerance: 7.288e+08\n",
      "  model = cd_fast.enet_coordinate_descent(\n",
      "C:\\Users\\toevr\\anaconda3\\lib\\site-packages\\sklearn\\linear_model\\_coordinate_descent.py:647: ConvergenceWarning: Objective did not converge. You might want to increase the number of iterations, check the scale of the features or consider increasing regularisation. Duality gap: 2.294e+11, tolerance: 6.990e+08\n",
      "  model = cd_fast.enet_coordinate_descent(\n",
      "C:\\Users\\toevr\\anaconda3\\lib\\site-packages\\sklearn\\linear_model\\_coordinate_descent.py:647: ConvergenceWarning: Objective did not converge. You might want to increase the number of iterations, check the scale of the features or consider increasing regularisation. Duality gap: 2.197e+11, tolerance: 7.706e+08\n",
      "  model = cd_fast.enet_coordinate_descent(\n",
      "C:\\Users\\toevr\\anaconda3\\lib\\site-packages\\sklearn\\linear_model\\_coordinate_descent.py:647: ConvergenceWarning: Objective did not converge. You might want to increase the number of iterations, check the scale of the features or consider increasing regularisation. Duality gap: 2.691e+11, tolerance: 7.249e+08\n",
      "  model = cd_fast.enet_coordinate_descent(\n",
      "C:\\Users\\toevr\\anaconda3\\lib\\site-packages\\sklearn\\linear_model\\_coordinate_descent.py:647: ConvergenceWarning: Objective did not converge. You might want to increase the number of iterations, check the scale of the features or consider increasing regularisation. Duality gap: 2.609e+11, tolerance: 7.592e+08\n",
      "  model = cd_fast.enet_coordinate_descent(\n",
      "C:\\Users\\toevr\\anaconda3\\lib\\site-packages\\sklearn\\linear_model\\_coordinate_descent.py:647: ConvergenceWarning: Objective did not converge. You might want to increase the number of iterations, check the scale of the features or consider increasing regularisation. Duality gap: 2.521e+11, tolerance: 7.288e+08\n",
      "  model = cd_fast.enet_coordinate_descent(\n",
      "C:\\Users\\toevr\\anaconda3\\lib\\site-packages\\sklearn\\linear_model\\_coordinate_descent.py:647: ConvergenceWarning: Objective did not converge. You might want to increase the number of iterations, check the scale of the features or consider increasing regularisation. Duality gap: 2.281e+11, tolerance: 6.990e+08\n",
      "  model = cd_fast.enet_coordinate_descent(\n",
      "C:\\Users\\toevr\\anaconda3\\lib\\site-packages\\sklearn\\linear_model\\_coordinate_descent.py:647: ConvergenceWarning: Objective did not converge. You might want to increase the number of iterations, check the scale of the features or consider increasing regularisation. Duality gap: 5.113e+10, tolerance: 7.706e+08\n",
      "  model = cd_fast.enet_coordinate_descent(\n",
      "C:\\Users\\toevr\\anaconda3\\lib\\site-packages\\sklearn\\linear_model\\_coordinate_descent.py:647: ConvergenceWarning: Objective did not converge. You might want to increase the number of iterations, check the scale of the features or consider increasing regularisation. Duality gap: 2.288e+11, tolerance: 7.249e+08\n",
      "  model = cd_fast.enet_coordinate_descent(\n",
      "C:\\Users\\toevr\\anaconda3\\lib\\site-packages\\sklearn\\linear_model\\_coordinate_descent.py:647: ConvergenceWarning: Objective did not converge. You might want to increase the number of iterations, check the scale of the features or consider increasing regularisation. Duality gap: 2.883e+11, tolerance: 7.592e+08\n",
      "  model = cd_fast.enet_coordinate_descent(\n",
      "C:\\Users\\toevr\\anaconda3\\lib\\site-packages\\sklearn\\linear_model\\_coordinate_descent.py:647: ConvergenceWarning: Objective did not converge. You might want to increase the number of iterations, check the scale of the features or consider increasing regularisation. Duality gap: 2.283e+11, tolerance: 7.288e+08\n",
      "  model = cd_fast.enet_coordinate_descent(\n",
      "C:\\Users\\toevr\\anaconda3\\lib\\site-packages\\sklearn\\linear_model\\_coordinate_descent.py:647: ConvergenceWarning: Objective did not converge. You might want to increase the number of iterations, check the scale of the features or consider increasing regularisation. Duality gap: 2.350e+11, tolerance: 6.990e+08\n",
      "  model = cd_fast.enet_coordinate_descent(\n",
      "C:\\Users\\toevr\\anaconda3\\lib\\site-packages\\sklearn\\linear_model\\_coordinate_descent.py:647: ConvergenceWarning: Objective did not converge. You might want to increase the number of iterations, check the scale of the features or consider increasing regularisation. Duality gap: 2.796e+11, tolerance: 7.706e+08\n",
      "  model = cd_fast.enet_coordinate_descent(\n",
      "C:\\Users\\toevr\\anaconda3\\lib\\site-packages\\sklearn\\linear_model\\_coordinate_descent.py:647: ConvergenceWarning: Objective did not converge. You might want to increase the number of iterations, check the scale of the features or consider increasing regularisation. Duality gap: 1.300e+11, tolerance: 7.249e+08\n",
      "  model = cd_fast.enet_coordinate_descent(\n",
      "C:\\Users\\toevr\\anaconda3\\lib\\site-packages\\sklearn\\linear_model\\_coordinate_descent.py:647: ConvergenceWarning: Objective did not converge. You might want to increase the number of iterations, check the scale of the features or consider increasing regularisation. Duality gap: 2.915e+11, tolerance: 7.592e+08\n",
      "  model = cd_fast.enet_coordinate_descent(\n",
      "C:\\Users\\toevr\\anaconda3\\lib\\site-packages\\sklearn\\linear_model\\_coordinate_descent.py:647: ConvergenceWarning: Objective did not converge. You might want to increase the number of iterations, check the scale of the features or consider increasing regularisation. Duality gap: 2.468e+11, tolerance: 7.288e+08\n",
      "  model = cd_fast.enet_coordinate_descent(\n",
      "C:\\Users\\toevr\\anaconda3\\lib\\site-packages\\sklearn\\linear_model\\_coordinate_descent.py:647: ConvergenceWarning: Objective did not converge. You might want to increase the number of iterations, check the scale of the features or consider increasing regularisation. Duality gap: 2.350e+11, tolerance: 6.990e+08\n",
      "  model = cd_fast.enet_coordinate_descent(\n",
      "C:\\Users\\toevr\\anaconda3\\lib\\site-packages\\sklearn\\linear_model\\_coordinate_descent.py:647: ConvergenceWarning: Objective did not converge. You might want to increase the number of iterations, check the scale of the features or consider increasing regularisation. Duality gap: 2.868e+11, tolerance: 7.706e+08\n",
      "  model = cd_fast.enet_coordinate_descent(\n",
      "C:\\Users\\toevr\\anaconda3\\lib\\site-packages\\sklearn\\linear_model\\_coordinate_descent.py:647: ConvergenceWarning: Objective did not converge. You might want to increase the number of iterations, check the scale of the features or consider increasing regularisation. Duality gap: 1.300e+11, tolerance: 7.249e+08\n",
      "  model = cd_fast.enet_coordinate_descent(\n"
     ]
    },
    {
     "name": "stdout",
     "output_type": "stream",
     "text": [
      "---OHE---\n",
      "Best alpha = 1\n"
     ]
    },
    {
     "name": "stderr",
     "output_type": "stream",
     "text": [
      "C:\\Users\\toevr\\anaconda3\\lib\\site-packages\\sklearn\\linear_model\\_coordinate_descent.py:647: ConvergenceWarning: Objective did not converge. You might want to increase the number of iterations, check the scale of the features or consider increasing regularisation. Duality gap: 2.804e+11, tolerance: 7.592e+08\n",
      "  model = cd_fast.enet_coordinate_descent(\n",
      "C:\\Users\\toevr\\anaconda3\\lib\\site-packages\\sklearn\\linear_model\\_coordinate_descent.py:647: ConvergenceWarning: Objective did not converge. You might want to increase the number of iterations, check the scale of the features or consider increasing regularisation. Duality gap: 2.465e+11, tolerance: 7.288e+08\n",
      "  model = cd_fast.enet_coordinate_descent(\n",
      "C:\\Users\\toevr\\anaconda3\\lib\\site-packages\\sklearn\\linear_model\\_coordinate_descent.py:647: ConvergenceWarning: Objective did not converge. You might want to increase the number of iterations, check the scale of the features or consider increasing regularisation. Duality gap: 2.294e+11, tolerance: 6.990e+08\n",
      "  model = cd_fast.enet_coordinate_descent(\n",
      "C:\\Users\\toevr\\anaconda3\\lib\\site-packages\\sklearn\\linear_model\\_coordinate_descent.py:647: ConvergenceWarning: Objective did not converge. You might want to increase the number of iterations, check the scale of the features or consider increasing regularisation. Duality gap: 2.197e+11, tolerance: 7.706e+08\n",
      "  model = cd_fast.enet_coordinate_descent(\n"
     ]
    },
    {
     "name": "stdout",
     "output_type": "stream",
     "text": [
      "RMSLE = 0.20894486880005142\n"
     ]
    },
    {
     "name": "stderr",
     "output_type": "stream",
     "text": [
      "C:\\Users\\toevr\\anaconda3\\lib\\site-packages\\sklearn\\linear_model\\_coordinate_descent.py:647: ConvergenceWarning: Objective did not converge. You might want to increase the number of iterations, check the scale of the features or consider increasing regularisation. Duality gap: 2.691e+11, tolerance: 7.249e+08\n",
      "  model = cd_fast.enet_coordinate_descent(\n"
     ]
    }
   ],
   "source": [
    "r = []\n",
    "l = [1, 0.1, 0.001, 0.0005]\n",
    "for i in l:\n",
    "    lasso = Lasso(alpha = i)\n",
    "    c = cross_val_score(lasso, X_trainOHE, y_trainOHE, cv=5)\n",
    "    r.append(sum(c)/len(c))\n",
    "\n",
    "m = r.index(max(r))\n",
    "print(\"---OHE---\")\n",
    "print(\"Best alpha = \" + str(l[m]))\n",
    "lasso = Lasso(alpha = l[m])\n",
    "y_pred = cross_val_predict(lasso, X_trainOHE, y_trainOHE, cv=5)\n",
    "y_pred = abs(y_pred)\n",
    "score_la = rmsle(y_trainOHE, y_pred)\n",
    "print(\"RMSLE = \" + str(score_la))"
   ]
  },
  {
   "cell_type": "code",
   "execution_count": 77,
   "id": "b6cf7fa8",
   "metadata": {},
   "outputs": [
    {
     "name": "stdout",
     "output_type": "stream",
     "text": [
      "---OHE21---\n",
      "Best alpha = 1\n",
      "RMSLE = 0.23135654438569453\n"
     ]
    }
   ],
   "source": [
    "r = []\n",
    "l = [1, 0.1, 0.001, 0.0005]\n",
    "for i in l:\n",
    "    lasso = Lasso(alpha = i)\n",
    "    c = cross_val_score(lasso, X_trainOHE21, y_trainOHE21, cv=5)\n",
    "    r.append(sum(c)/len(c))\n",
    "\n",
    "m = r.index(max(r))\n",
    "print(\"---OHE21---\")\n",
    "print(\"Best alpha = \" + str(l[m]))\n",
    "lasso = Lasso(alpha = l[m])\n",
    "y_pred = cross_val_predict(lasso, X_trainOHE21, y_trainOHE21, cv=5)\n",
    "y_pred = abs(y_pred)\n",
    "score_la = rmsle(y_trainOHE21, y_pred)\n",
    "print(\"RMSLE = \" + str(score_la))"
   ]
  },
  {
   "cell_type": "code",
   "execution_count": 78,
   "id": "fba5f75c",
   "metadata": {},
   "outputs": [
    {
     "name": "stdout",
     "output_type": "stream",
     "text": [
      "---LE---\n",
      "Best alpha = 1\n",
      "RMSLE = 0.19031052403211904\n"
     ]
    }
   ],
   "source": [
    "r = []\n",
    "l = [1, 0.1, 0.001, 0.0005]\n",
    "for i in l:\n",
    "    lasso = Lasso(alpha = i)\n",
    "    c = cross_val_score(lasso, X_trainLE, y_trainLE, cv=5)\n",
    "    r.append(sum(c)/len(c))\n",
    "\n",
    "m = r.index(max(r))\n",
    "print(\"---LE---\")\n",
    "print(\"Best alpha = \" + str(l[m]))\n",
    "lasso = Lasso(alpha = l[m])\n",
    "y_pred = cross_val_predict(lasso, X_trainLE, y_trainLE, cv=5)\n",
    "y_pred = abs(y_pred)\n",
    "score_la = rmsle(y_trainLE, y_pred)\n",
    "print(\"RMSLE = \" + str(score_la))"
   ]
  },
  {
   "cell_type": "code",
   "execution_count": 79,
   "id": "22f70c7d",
   "metadata": {},
   "outputs": [
    {
     "name": "stdout",
     "output_type": "stream",
     "text": [
      "---LE19---\n",
      "Best alpha = 1\n",
      "RMSLE = 0.20036051458921755\n"
     ]
    }
   ],
   "source": [
    "r = []\n",
    "l = [1, 0.1, 0.001, 0.0005]\n",
    "for i in l:\n",
    "    lasso = Lasso(alpha = i)\n",
    "    c = cross_val_score(lasso, X_trainLE19, y_trainLE19, cv=5)\n",
    "    r.append(sum(c)/len(c))\n",
    "\n",
    "m = r.index(max(r))\n",
    "print(\"---LE19---\")\n",
    "print(\"Best alpha = \" + str(l[m]))\n",
    "lasso = Lasso(alpha = l[m])\n",
    "y_pred = cross_val_predict(lasso, X_trainLE19, y_trainLE19, cv=5)\n",
    "y_pred = abs(y_pred)\n",
    "score_la = rmsle(y_trainLE19, y_pred)\n",
    "print(\"RMSLE = \" + str(score_la))"
   ]
  },
  {
   "cell_type": "code",
   "execution_count": 80,
   "id": "b0e8d424",
   "metadata": {},
   "outputs": [
    {
     "name": "stdout",
     "output_type": "stream",
     "text": [
      "---LogOHE---\n",
      "Best alpha = 0.0005\n",
      "RMSLE = 0.13691614482596232\n"
     ]
    }
   ],
   "source": [
    "r = []\n",
    "l = [1, 0.1, 0.001, 0.0005]\n",
    "for i in l:\n",
    "    lasso = Lasso(alpha = i)\n",
    "    c = cross_val_score(lasso, X_trainOHE_log, y_trainOHE_log, cv=5)\n",
    "    r.append(sum(c)/len(c))\n",
    "\n",
    "m = r.index(max(r))\n",
    "print(\"---LogOHE---\")\n",
    "print(\"Best alpha = \" + str(l[m]))\n",
    "lasso = Lasso(alpha = l[m])\n",
    "y_pred = cross_val_predict(lasso, X_trainOHE_log, y_trainOHE_log, cv=5)\n",
    "y_pred = abs(y_pred)\n",
    "score_la = rmsle(np.exp(y_trainOHE_log), np.exp(y_pred))\n",
    "print(\"RMSLE = \" + str(score_la))"
   ]
  },
  {
   "cell_type": "markdown",
   "id": "9a366b7c",
   "metadata": {},
   "source": [
    "## RandomForest"
   ]
  },
  {
   "cell_type": "code",
   "execution_count": 81,
   "id": "42929b9b",
   "metadata": {},
   "outputs": [
    {
     "name": "stdout",
     "output_type": "stream",
     "text": [
      "---OHE---\n",
      "RMSLE = 0.14482196559348567\n"
     ]
    }
   ],
   "source": [
    "RF = RandomForestRegressor(n_estimators = 90 , max_depth = 330, min_samples_leaf =  2)\n",
    "print(\"---OHE---\")\n",
    "y_pred = cross_val_predict(RF, X_trainOHE, y_trainOHE, cv=5)\n",
    "y_pred = abs(y_pred)\n",
    "score_la = rmsle(y_trainOHE, y_pred)\n",
    "print(\"RMSLE = \" + str(score_la))"
   ]
  },
  {
   "cell_type": "code",
   "execution_count": 82,
   "id": "9af01961",
   "metadata": {},
   "outputs": [
    {
     "name": "stdout",
     "output_type": "stream",
     "text": [
      "---OHE21---\n",
      "RMSLE = 0.15155758788496412\n"
     ]
    }
   ],
   "source": [
    "RF = RandomForestRegressor(n_estimators = 90 , max_depth = 330, min_samples_leaf =  2)\n",
    "print(\"---OHE21---\")\n",
    "y_pred = cross_val_predict(RF, X_trainOHE21, y_trainOHE21, cv=5)\n",
    "y_pred = abs(y_pred)\n",
    "score_la = rmsle(y_trainOHE21, y_pred)\n",
    "print(\"RMSLE = \" + str(score_la))"
   ]
  },
  {
   "cell_type": "code",
   "execution_count": 83,
   "id": "e1c741ad",
   "metadata": {},
   "outputs": [
    {
     "name": "stdout",
     "output_type": "stream",
     "text": [
      "---LE---\n",
      "RMSLE = 0.1449851662672746\n"
     ]
    }
   ],
   "source": [
    "RF = RandomForestRegressor(n_estimators = 90 , max_depth = 330, min_samples_leaf =  2)\n",
    "print(\"---LE---\")\n",
    "y_pred = cross_val_predict(RF, X_trainLE, y_trainLE, cv=5)\n",
    "y_pred = abs(y_pred)\n",
    "score_la = rmsle(y_trainLE, y_pred)\n",
    "print(\"RMSLE = \" + str(score_la))"
   ]
  },
  {
   "cell_type": "code",
   "execution_count": 84,
   "id": "5947c5b0",
   "metadata": {},
   "outputs": [
    {
     "name": "stdout",
     "output_type": "stream",
     "text": [
      "---LE19---\n",
      "RMSLE = 0.1522426772850338\n"
     ]
    }
   ],
   "source": [
    "RF = RandomForestRegressor(n_estimators = 90 , max_depth = 330, min_samples_leaf =  2)\n",
    "print(\"---LE19---\")\n",
    "y_pred = cross_val_predict(RF, X_trainLE19, y_trainLE19, cv=5)\n",
    "y_pred = abs(y_pred)\n",
    "score_la = rmsle(y_trainLE19, y_pred)\n",
    "print(\"RMSLE = \" + str(score_la))"
   ]
  },
  {
   "cell_type": "code",
   "execution_count": 85,
   "id": "2d7ec192",
   "metadata": {},
   "outputs": [
    {
     "name": "stdout",
     "output_type": "stream",
     "text": [
      "---LogOHE---\n",
      "RMSLE = 0.14126662100159743\n"
     ]
    }
   ],
   "source": [
    "RF = RandomForestRegressor(n_estimators = 90 , max_depth = 330, min_samples_leaf =  2)\n",
    "print(\"---LogOHE---\")\n",
    "y_pred = cross_val_predict(RF, X_trainOHE_log, y_trainOHE_log, cv=5)\n",
    "y_pred = abs(y_pred)\n",
    "score_la = rmsle(np.exp(y_trainOHE_log), np.exp(y_pred))\n",
    "print(\"RMSLE = \" + str(score_la))"
   ]
  }
 ],
 "metadata": {
  "kernelspec": {
   "display_name": "Python 3 (ipykernel)",
   "language": "python",
   "name": "python3"
  },
  "language_info": {
   "codemirror_mode": {
    "name": "ipython",
    "version": 3
   },
   "file_extension": ".py",
   "mimetype": "text/x-python",
   "name": "python",
   "nbconvert_exporter": "python",
   "pygments_lexer": "ipython3",
   "version": "3.9.7"
  }
 },
 "nbformat": 4,
 "nbformat_minor": 5
}
